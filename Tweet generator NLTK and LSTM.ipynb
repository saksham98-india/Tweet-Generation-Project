{
 "cells": [
  {
   "cell_type": "code",
   "execution_count": 1,
   "id": "f72e0159",
   "metadata": {},
   "outputs": [],
   "source": [
    "import pandas as pd\n",
    "import numpy as np\n",
    "import nltk\n",
    "from nltk.corpus import stopwords\n",
    "from nltk.stem import PorterStemmer, WordNetLemmatizer\n",
    "from nltk.tokenize import word_tokenize\n",
    "from sklearn.model_selection import train_test_split\n",
    "from sklearn.feature_extraction.text import CountVectorizer\n",
    "from tensorflow.keras.preprocessing.sequence import pad_sequences\n",
    "from tensorflow.keras.preprocessing.text import Tokenizer\n",
    "from tensorflow.keras.models import Sequential\n",
    "from tensorflow.keras.layers import Embedding, LSTM, Dense, Dropout, Bidirectional\n",
    "from tensorflow.keras.callbacks import EarlyStopping\n",
    "import livelossplot\n",
    "import tensorflow\n",
    "\n",
    "\n",
    "%matplotlib inline"
   ]
  },
  {
   "cell_type": "code",
   "execution_count": 2,
   "id": "8c126e97",
   "metadata": {},
   "outputs": [],
   "source": [
    "header = ['Target','Ids','Date','Flag','User','Tweet']\n",
    "df = pd.read_csv(r\"H:\\My Drive\\Intershala internship\\Kudosware\\training.1600000.processed.noemoticon.csv\",encoding='ISO-8859–1', names=header)\n",
    "df = df[:100]"
   ]
  },
  {
   "cell_type": "code",
   "execution_count": 3,
   "id": "fab20523",
   "metadata": {},
   "outputs": [],
   "source": [
    "df['Text'] = df['Tweet'].str.lower()\n",
    "df['Text'] = df['Text'].map(lambda s: ' '.join([x for x in s.split() if 'http' not in x if '@' not in x]))"
   ]
  },
  {
   "cell_type": "code",
   "execution_count": 4,
   "id": "25a3d36a",
   "metadata": {},
   "outputs": [
    {
     "name": "stderr",
     "output_type": "stream",
     "text": [
      "C:\\Users\\saksh\\AppData\\Local\\Temp\\ipykernel_15044\\2399819199.py:1: FutureWarning: The default value of regex will change from True to False in a future version.\n",
      "  df['processed_tweets'] = df['Text'].str.replace('[^\\w\\s]', '').str.lower()\n"
     ]
    }
   ],
   "source": [
    "df['processed_tweets'] = df['Text'].str.replace('[^\\w\\s]', '').str.lower()"
   ]
  },
  {
   "cell_type": "code",
   "execution_count": 5,
   "id": "ca043d6b",
   "metadata": {},
   "outputs": [],
   "source": [
    "df['tokenized_tweets'] = df['processed_tweets'].apply(word_tokenize)"
   ]
  },
  {
   "cell_type": "code",
   "execution_count": 6,
   "id": "4d98685f",
   "metadata": {},
   "outputs": [],
   "source": [
    "# stop_words = set(stopwords.words('english'))\n",
    "# df['filtered_tweets'] = df['tokenized_tweets'].apply(lambda x: [word for word in x if word not in stop_words\n",
    "# stemmer = PorterStemmer()\n",
    "# df['stemmed_tweets'] = df['tokenized_tweets'].apply(lambda x: [stemmer.stem(word) for word in x])\n"
   ]
  },
  {
   "cell_type": "code",
   "execution_count": 7,
   "id": "e6afa8c2",
   "metadata": {},
   "outputs": [],
   "source": [
    "# lemmatizer = WordNetLemmatizer()\n",
    "# df['lemmatized_tweets'] = df['tokenized_tweets'].apply(lambda x: [lemmatizer.lemmatize(word) for word in x])"
   ]
  },
  {
   "cell_type": "code",
   "execution_count": 8,
   "id": "86ca84fd",
   "metadata": {},
   "outputs": [
    {
     "data": {
      "text/html": [
       "<div>\n",
       "<style scoped>\n",
       "    .dataframe tbody tr th:only-of-type {\n",
       "        vertical-align: middle;\n",
       "    }\n",
       "\n",
       "    .dataframe tbody tr th {\n",
       "        vertical-align: top;\n",
       "    }\n",
       "\n",
       "    .dataframe thead th {\n",
       "        text-align: right;\n",
       "    }\n",
       "</style>\n",
       "<table border=\"1\" class=\"dataframe\">\n",
       "  <thead>\n",
       "    <tr style=\"text-align: right;\">\n",
       "      <th></th>\n",
       "      <th>Target</th>\n",
       "      <th>Ids</th>\n",
       "      <th>Date</th>\n",
       "      <th>Flag</th>\n",
       "      <th>User</th>\n",
       "      <th>Tweet</th>\n",
       "      <th>Text</th>\n",
       "      <th>processed_tweets</th>\n",
       "      <th>tokenized_tweets</th>\n",
       "    </tr>\n",
       "  </thead>\n",
       "  <tbody>\n",
       "    <tr>\n",
       "      <th>0</th>\n",
       "      <td>0</td>\n",
       "      <td>1467810369</td>\n",
       "      <td>Mon Apr 06 22:19:45 PDT 2009</td>\n",
       "      <td>NO_QUERY</td>\n",
       "      <td>_TheSpecialOne_</td>\n",
       "      <td>@switchfoot http://twitpic.com/2y1zl - Awww, t...</td>\n",
       "      <td>- awww, that's a bummer. you shoulda got david...</td>\n",
       "      <td>awww thats a bummer you shoulda got david car...</td>\n",
       "      <td>[awww, thats, a, bummer, you, shoulda, got, da...</td>\n",
       "    </tr>\n",
       "    <tr>\n",
       "      <th>1</th>\n",
       "      <td>0</td>\n",
       "      <td>1467810672</td>\n",
       "      <td>Mon Apr 06 22:19:49 PDT 2009</td>\n",
       "      <td>NO_QUERY</td>\n",
       "      <td>scotthamilton</td>\n",
       "      <td>is upset that he can't update his Facebook by ...</td>\n",
       "      <td>is upset that he can't update his facebook by ...</td>\n",
       "      <td>is upset that he cant update his facebook by t...</td>\n",
       "      <td>[is, upset, that, he, cant, update, his, faceb...</td>\n",
       "    </tr>\n",
       "    <tr>\n",
       "      <th>2</th>\n",
       "      <td>0</td>\n",
       "      <td>1467810917</td>\n",
       "      <td>Mon Apr 06 22:19:53 PDT 2009</td>\n",
       "      <td>NO_QUERY</td>\n",
       "      <td>mattycus</td>\n",
       "      <td>@Kenichan I dived many times for the ball. Man...</td>\n",
       "      <td>i dived many times for the ball. managed to sa...</td>\n",
       "      <td>i dived many times for the ball managed to sav...</td>\n",
       "      <td>[i, dived, many, times, for, the, ball, manage...</td>\n",
       "    </tr>\n",
       "    <tr>\n",
       "      <th>3</th>\n",
       "      <td>0</td>\n",
       "      <td>1467811184</td>\n",
       "      <td>Mon Apr 06 22:19:57 PDT 2009</td>\n",
       "      <td>NO_QUERY</td>\n",
       "      <td>ElleCTF</td>\n",
       "      <td>my whole body feels itchy and like its on fire</td>\n",
       "      <td>my whole body feels itchy and like its on fire</td>\n",
       "      <td>my whole body feels itchy and like its on fire</td>\n",
       "      <td>[my, whole, body, feels, itchy, and, like, its...</td>\n",
       "    </tr>\n",
       "    <tr>\n",
       "      <th>4</th>\n",
       "      <td>0</td>\n",
       "      <td>1467811193</td>\n",
       "      <td>Mon Apr 06 22:19:57 PDT 2009</td>\n",
       "      <td>NO_QUERY</td>\n",
       "      <td>Karoli</td>\n",
       "      <td>@nationwideclass no, it's not behaving at all....</td>\n",
       "      <td>no, it's not behaving at all. i'm mad. why am ...</td>\n",
       "      <td>no its not behaving at all im mad why am i her...</td>\n",
       "      <td>[no, its, not, behaving, at, all, im, mad, why...</td>\n",
       "    </tr>\n",
       "    <tr>\n",
       "      <th>...</th>\n",
       "      <td>...</td>\n",
       "      <td>...</td>\n",
       "      <td>...</td>\n",
       "      <td>...</td>\n",
       "      <td>...</td>\n",
       "      <td>...</td>\n",
       "      <td>...</td>\n",
       "      <td>...</td>\n",
       "      <td>...</td>\n",
       "    </tr>\n",
       "    <tr>\n",
       "      <th>95</th>\n",
       "      <td>0</td>\n",
       "      <td>1467836448</td>\n",
       "      <td>Mon Apr 06 22:26:27 PDT 2009</td>\n",
       "      <td>NO_QUERY</td>\n",
       "      <td>Dogbook</td>\n",
       "      <td>Strider is a sick little puppy  http://apps.fa...</td>\n",
       "      <td>strider is a sick little puppy</td>\n",
       "      <td>strider is a sick little puppy</td>\n",
       "      <td>[strider, is, a, sick, little, puppy]</td>\n",
       "    </tr>\n",
       "    <tr>\n",
       "      <th>96</th>\n",
       "      <td>0</td>\n",
       "      <td>1467836500</td>\n",
       "      <td>Mon Apr 06 22:26:28 PDT 2009</td>\n",
       "      <td>NO_QUERY</td>\n",
       "      <td>natalieantipas</td>\n",
       "      <td>so rylee,grace...wana go steve's party or not?...</td>\n",
       "      <td>so rylee,grace...wana go steve's party or not?...</td>\n",
       "      <td>so ryleegracewana go steves party or not sadly...</td>\n",
       "      <td>[so, ryleegracewana, go, steves, party, or, no...</td>\n",
       "    </tr>\n",
       "    <tr>\n",
       "      <th>97</th>\n",
       "      <td>0</td>\n",
       "      <td>1467836576</td>\n",
       "      <td>Mon Apr 06 22:26:29 PDT 2009</td>\n",
       "      <td>NO_QUERY</td>\n",
       "      <td>timdonnelly</td>\n",
       "      <td>hey, I actually won one of my bracket pools! T...</td>\n",
       "      <td>hey, i actually won one of my bracket pools! t...</td>\n",
       "      <td>hey i actually won one of my bracket pools too...</td>\n",
       "      <td>[hey, i, actually, won, one, of, my, bracket, ...</td>\n",
       "    </tr>\n",
       "    <tr>\n",
       "      <th>98</th>\n",
       "      <td>0</td>\n",
       "      <td>1467836583</td>\n",
       "      <td>Mon Apr 06 22:26:29 PDT 2009</td>\n",
       "      <td>NO_QUERY</td>\n",
       "      <td>homeworld</td>\n",
       "      <td>@stark YOU don't follow me, either  and i work...</td>\n",
       "      <td>you don't follow me, either and i work for you!</td>\n",
       "      <td>you dont follow me either and i work for you</td>\n",
       "      <td>[you, dont, follow, me, either, and, i, work, ...</td>\n",
       "    </tr>\n",
       "    <tr>\n",
       "      <th>99</th>\n",
       "      <td>0</td>\n",
       "      <td>1467836859</td>\n",
       "      <td>Mon Apr 06 22:26:33 PDT 2009</td>\n",
       "      <td>NO_QUERY</td>\n",
       "      <td>willy_chaz</td>\n",
       "      <td>A bad nite for the favorite teams: Astros and ...</td>\n",
       "      <td>a bad nite for the favorite teams: astros and ...</td>\n",
       "      <td>a bad nite for the favorite teams astros and s...</td>\n",
       "      <td>[a, bad, nite, for, the, favorite, teams, astr...</td>\n",
       "    </tr>\n",
       "  </tbody>\n",
       "</table>\n",
       "<p>100 rows × 9 columns</p>\n",
       "</div>"
      ],
      "text/plain": [
       "    Target         Ids                          Date      Flag  \\\n",
       "0        0  1467810369  Mon Apr 06 22:19:45 PDT 2009  NO_QUERY   \n",
       "1        0  1467810672  Mon Apr 06 22:19:49 PDT 2009  NO_QUERY   \n",
       "2        0  1467810917  Mon Apr 06 22:19:53 PDT 2009  NO_QUERY   \n",
       "3        0  1467811184  Mon Apr 06 22:19:57 PDT 2009  NO_QUERY   \n",
       "4        0  1467811193  Mon Apr 06 22:19:57 PDT 2009  NO_QUERY   \n",
       "..     ...         ...                           ...       ...   \n",
       "95       0  1467836448  Mon Apr 06 22:26:27 PDT 2009  NO_QUERY   \n",
       "96       0  1467836500  Mon Apr 06 22:26:28 PDT 2009  NO_QUERY   \n",
       "97       0  1467836576  Mon Apr 06 22:26:29 PDT 2009  NO_QUERY   \n",
       "98       0  1467836583  Mon Apr 06 22:26:29 PDT 2009  NO_QUERY   \n",
       "99       0  1467836859  Mon Apr 06 22:26:33 PDT 2009  NO_QUERY   \n",
       "\n",
       "               User                                              Tweet  \\\n",
       "0   _TheSpecialOne_  @switchfoot http://twitpic.com/2y1zl - Awww, t...   \n",
       "1     scotthamilton  is upset that he can't update his Facebook by ...   \n",
       "2          mattycus  @Kenichan I dived many times for the ball. Man...   \n",
       "3           ElleCTF    my whole body feels itchy and like its on fire    \n",
       "4            Karoli  @nationwideclass no, it's not behaving at all....   \n",
       "..              ...                                                ...   \n",
       "95          Dogbook  Strider is a sick little puppy  http://apps.fa...   \n",
       "96   natalieantipas  so rylee,grace...wana go steve's party or not?...   \n",
       "97      timdonnelly  hey, I actually won one of my bracket pools! T...   \n",
       "98        homeworld  @stark YOU don't follow me, either  and i work...   \n",
       "99       willy_chaz  A bad nite for the favorite teams: Astros and ...   \n",
       "\n",
       "                                                 Text  \\\n",
       "0   - awww, that's a bummer. you shoulda got david...   \n",
       "1   is upset that he can't update his facebook by ...   \n",
       "2   i dived many times for the ball. managed to sa...   \n",
       "3      my whole body feels itchy and like its on fire   \n",
       "4   no, it's not behaving at all. i'm mad. why am ...   \n",
       "..                                                ...   \n",
       "95                     strider is a sick little puppy   \n",
       "96  so rylee,grace...wana go steve's party or not?...   \n",
       "97  hey, i actually won one of my bracket pools! t...   \n",
       "98    you don't follow me, either and i work for you!   \n",
       "99  a bad nite for the favorite teams: astros and ...   \n",
       "\n",
       "                                     processed_tweets  \\\n",
       "0    awww thats a bummer you shoulda got david car...   \n",
       "1   is upset that he cant update his facebook by t...   \n",
       "2   i dived many times for the ball managed to sav...   \n",
       "3      my whole body feels itchy and like its on fire   \n",
       "4   no its not behaving at all im mad why am i her...   \n",
       "..                                                ...   \n",
       "95                     strider is a sick little puppy   \n",
       "96  so ryleegracewana go steves party or not sadly...   \n",
       "97  hey i actually won one of my bracket pools too...   \n",
       "98       you dont follow me either and i work for you   \n",
       "99  a bad nite for the favorite teams astros and s...   \n",
       "\n",
       "                                     tokenized_tweets  \n",
       "0   [awww, thats, a, bummer, you, shoulda, got, da...  \n",
       "1   [is, upset, that, he, cant, update, his, faceb...  \n",
       "2   [i, dived, many, times, for, the, ball, manage...  \n",
       "3   [my, whole, body, feels, itchy, and, like, its...  \n",
       "4   [no, its, not, behaving, at, all, im, mad, why...  \n",
       "..                                                ...  \n",
       "95              [strider, is, a, sick, little, puppy]  \n",
       "96  [so, ryleegracewana, go, steves, party, or, no...  \n",
       "97  [hey, i, actually, won, one, of, my, bracket, ...  \n",
       "98  [you, dont, follow, me, either, and, i, work, ...  \n",
       "99  [a, bad, nite, for, the, favorite, teams, astr...  \n",
       "\n",
       "[100 rows x 9 columns]"
      ]
     },
     "execution_count": 8,
     "metadata": {},
     "output_type": "execute_result"
    }
   ],
   "source": [
    "df"
   ]
  },
  {
   "cell_type": "code",
   "execution_count": 9,
   "id": "522922b2",
   "metadata": {},
   "outputs": [],
   "source": [
    "tokenizer = Tokenizer()\n",
    "\n",
    "tokenizer.fit_on_texts(df['tokenized_tweets'])\n",
    "\n",
    "vocab_size = len(tokenizer.word_index) + 1\n",
    "\n",
    "sequence = tokenizer.texts_to_sequences(df['tokenized_tweets'])\n"
   ]
  },
  {
   "cell_type": "code",
   "execution_count": 10,
   "id": "0dc67f18",
   "metadata": {},
   "outputs": [],
   "source": [
    "input_sequences = []\n",
    "for token in sequence:\n",
    "    for i in range(1, len(token)):\n",
    "        n_gram_sequence = token[:i+1]\n",
    "        input_sequences.append(n_gram_sequence)"
   ]
  },
  {
   "cell_type": "code",
   "execution_count": 11,
   "id": "f0c04cc2",
   "metadata": {},
   "outputs": [
    {
     "name": "stdout",
     "output_type": "stream",
     "text": [
      "29\n"
     ]
    }
   ],
   "source": [
    "max_len = max(len(seq) for seq in sequence)\n",
    "print(max_len)\n",
    "pad_seq = pad_sequences(input_sequences, maxlen=max_len, padding='pre')\n",
    "inputs, label = pad_seq[:,:-1],pad_seq[:,-1]"
   ]
  },
  {
   "cell_type": "code",
   "execution_count": 12,
   "id": "45cd3fdb",
   "metadata": {},
   "outputs": [],
   "source": [
    "import keras.utils as ku\n",
    "label = ku.to_categorical(label, num_classes=vocab_size)"
   ]
  },
  {
   "cell_type": "markdown",
   "id": "6def7aec",
   "metadata": {},
   "source": [
    "train_size = int(0.8 * len(input_sequences))\n",
    "train_input = input[:train_size]\n",
    "train_output = label[:train_size]\n",
    "test_input = input[train_size:]\n",
    "test_output = label[train_size:]"
   ]
  },
  {
   "cell_type": "code",
   "execution_count": 13,
   "id": "b471d295",
   "metadata": {},
   "outputs": [
    {
     "name": "stdout",
     "output_type": "stream",
     "text": [
      "Model: \"sequential\"\n",
      "_________________________________________________________________\n",
      " Layer (type)                Output Shape              Param #   \n",
      "=================================================================\n",
      " embedding (Embedding)       (None, 28, 100)           63300     \n",
      "                                                                 \n",
      " lstm (LSTM)                 (None, 128)               117248    \n",
      "                                                                 \n",
      " dropout (Dropout)           (None, 128)               0         \n",
      "                                                                 \n",
      " dense (Dense)               (None, 633)               81657     \n",
      "                                                                 \n",
      "=================================================================\n",
      "Total params: 262,205\n",
      "Trainable params: 262,205\n",
      "Non-trainable params: 0\n",
      "_________________________________________________________________\n"
     ]
    }
   ],
   "source": [
    "embedding_dim = 100\n",
    "\n",
    "model = Sequential()\n",
    "model.add(Embedding(vocab_size, embedding_dim , input_length=max_len-1,))\n",
    "# model.add(Bidirectional(LSTM(200)))\n",
    "# model.add(Bidirectional(LSTM(128, return_sequences=True)))\n",
    "model.add(LSTM(128))\n",
    "model.add(Dropout(0.2)) \n",
    "# model.add(LSTM(64, return_sequences=True))\n",
    "# model.add(Dropout(0.3))\n",
    "# model.add(LSTM(128, return_sequences=True))\n",
    "# model.add(Dropout(0.3))\n",
    "# model.add(LSTM(128, return_sequences=False))\n",
    "# model.add(Dropout(0.5)) \n",
    "model.add(Dense(vocab_size,activation='softmax'))\n",
    "\n",
    "model.compile(loss='categorical_crossentropy', optimizer='adam', metrics=['accuracy'])\n",
    "model.summary()"
   ]
  },
  {
   "cell_type": "code",
   "execution_count": 14,
   "id": "d0a41718",
   "metadata": {},
   "outputs": [],
   "source": [
    "plot_losses = livelossplot.PlotLossesKeras()"
   ]
  },
  {
   "cell_type": "code",
   "execution_count": 15,
   "id": "a2ee691d",
   "metadata": {},
   "outputs": [
    {
     "data": {
      "image/png": "[encoded data removed]",
      "text/plain": [
       "<Figure size 1200x800 with 2 Axes>"
      ]
     },
     "metadata": {},
     "output_type": "display_data"
    },
    {
     "name": "stdout",
     "output_type": "stream",
     "text": [
      "accuracy\n",
      "\taccuracy         \t (min:    0.014, max:    0.598, cur:    0.598)\n",
      "Loss\n",
      "\tloss             \t (min:    2.240, max:    6.448, cur:    2.240)\n",
      "Test loss: 2.136536121368408\n",
      "Test accuracy: 0.6552795171737671\n"
     ]
    }
   ],
   "source": [
    "model.fit(inputs, label,batch_size=256 ,epochs=150, verbose=5,callbacks=[plot_losses])\n",
    "score = model.evaluate(inputs, label, verbose=0)\n",
    "print('Test loss:', score[0])\n",
    "print('Test accuracy:', score[1])"
   ]
  },
  {
   "cell_type": "code",
   "execution_count": 30,
   "id": "5ecbeb2c",
   "metadata": {},
   "outputs": [
    {
     "name": "stdout",
     "output_type": "stream",
     "text": [
      "1/1 [==============================] - 0s 21ms/step\n",
      "1/1 [==============================] - 0s 31ms/step\n",
      "1/1 [==============================] - 0s 49ms/step\n",
      "1/1 [==============================] - 0s 24ms/step\n",
      "1/1 [==============================] - 0s 45ms/step\n",
      "1/1 [==============================] - 0s 34ms/step\n",
      "1/1 [==============================] - 0s 46ms/step\n",
      "1/1 [==============================] - 0s 46ms/step\n",
      "1/1 [==============================] - 0s 31ms/step\n",
      "1/1 [==============================] - 0s 32ms/step\n",
      "1/1 [==============================] - 0s 47ms/step\n",
      "1/1 [==============================] - 0s 47ms/step\n",
      "1/1 [==============================] - 0s 19ms/step\n",
      "1/1 [==============================] - 0s 31ms/step\n",
      "I Am Feeling I Dont Think My Phone Smells Like Citrus And Me And I Still Think\n"
     ]
    }
   ],
   "source": [
    "def generate_tweet(model, tokenizer, seed_text,length):\n",
    "\n",
    "    input_text = seed_text\n",
    "\n",
    "    for _ in range(length):\n",
    "        encoded = tokenizer.texts_to_sequences([input_text])[0]\n",
    "        encoded = pad_sequences([encoded], maxlen=max_len-1, padding='pre')\n",
    "        predicted_word_index = np.argmax(model.predict(encoded), axis=-1)[0]\n",
    "        predicted_word = ''\n",
    "\n",
    "        for word, index in tokenizer.word_index.items():\n",
    "            if index == predicted_word_index:\n",
    "                predicted_word = word\n",
    "                break\n",
    "\n",
    "        input_text += ' ' + predicted_word\n",
    "\n",
    "    return input_text.title()\n",
    "\n",
    "seed_text = \"I am feeling\"\n",
    "generated_tweet = generate_tweet(model, tokenizer, seed_text,14)\n",
    "print(generated_tweet)"
   ]
  },
  {
   "cell_type": "code",
   "execution_count": null,
   "id": "ec83ddad",
   "metadata": {},
   "outputs": [],
   "source": []
  }
 ],
 "metadata": {
  "kernelspec": {
   "display_name": "Python 3 (ipykernel)",
   "language": "python",
   "name": "python3"
  },
  "language_info": {
   "codemirror_mode": {
    "name": "ipython",
    "version": 3
   },
   "file_extension": ".py",
   "mimetype": "text/x-python",
   "name": "python",
   "nbconvert_exporter": "python",
   "pygments_lexer": "ipython3",
   "version": "3.8.16"
  }
 },
 "nbformat": 4,
 "nbformat_minor": 5
}
